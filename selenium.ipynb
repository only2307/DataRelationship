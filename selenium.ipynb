{
 "cells": [
  {
   "cell_type": "code",
   "execution_count": 1,
   "id": "fPtoVlU6cfKo",
   "metadata": {
    "id": "fPtoVlU6cfKo"
   },
   "outputs": [],
   "source": [
    "from selenium.webdriver import Chrome\n",
    "from bs4 import BeautifulSoup\n",
    "import re\n",
    "import time\n",
    "import datetime"
   ]
  },
  {
   "cell_type": "code",
   "execution_count": 2,
   "id": "dcde6474-ed28-4d6f-b1f6-e30327197d22",
   "metadata": {
    "id": "dcde6474-ed28-4d6f-b1f6-e30327197d22"
   },
   "outputs": [],
   "source": [
    "# Get current date\n",
    "today = datetime.date.today()\n",
    "# Amount of time for a page to fully load\n",
    "SLEEP_TIME_FOR_ELEMENTS_EXPLICIT = 30\n",
    "# Amount of time for all elements in a page to fully load\n",
    "SLEEP_TIME_FOR_ELEMENTS_IMPLICIT = 0.5"
   ]
  },
  {
   "cell_type": "code",
   "execution_count": 3,
   "id": "95b323ef-b0aa-4c75-9cff-fa02b5809a55",
   "metadata": {
    "colab": {
     "base_uri": "https://localhost:8080/",
     "height": 506
    },
    "id": "95b323ef-b0aa-4c75-9cff-fa02b5809a55",
    "outputId": "5024fb93-20f8-42a3-95fc-39d145cfaa59"
   },
   "outputs": [
    {
     "name": "stderr",
     "output_type": "stream",
     "text": [
      "C:\\Users\\HOANGDUY\\AppData\\Local\\Temp/ipykernel_16180/2542580067.py:1: DeprecationWarning: executable_path has been deprecated, please pass in a Service object\n",
      "  driver = Chrome(\"D:\\\\DV\\\\DataRelationship\\\\chromedriver.exe\")\n"
     ]
    }
   ],
   "source": [
    "driver = Chrome(\"D:\\\\DV\\\\DataRelationship\\\\chromedriver.exe\")"
   ]
  },
  {
   "cell_type": "markdown",
   "id": "cc24a493-c317-499b-bea4-5caf22680118",
   "metadata": {},
   "source": [
    "## Using chromedriver to scroll to the end of page"
   ]
  },
  {
   "cell_type": "code",
   "execution_count": 4,
   "id": "aaca040e-07fe-47f9-874a-23929c02ba86",
   "metadata": {
    "id": "aaca040e-07fe-47f9-874a-23929c02ba86"
   },
   "outputs": [],
   "source": [
    "def scroll_page(sleep_time):\n",
    "    # Continuously scoll to the end of the page\n",
    "    # Configure sleep_time to wait for page loading\n",
    "    last_height = driver.execute_script(\"return document.body.scrollHeight\")\n",
    "    while True:\n",
    "        # Scroll down to bottom\n",
    "        driver.execute_script(\n",
    "            \"window.scrollTo(0, document.body.scrollHeight);\")\n",
    "        # Wait to load page\n",
    "        time.sleep(sleep_time)\n",
    "        # Calculate new scroll height and compare with last scroll height\n",
    "        new_height = driver.execute_script(\"return document.body.scrollHeight\")\n",
    "        if new_height == last_height:\n",
    "            break\n",
    "        last_height = new_height"
   ]
  },
  {
   "cell_type": "markdown",
   "id": "afc3fd62-1f18-4eaa-a26c-6ef32514e802",
   "metadata": {},
   "source": [
    "## Using BeautifulSoup to get all attributes appeared in this page and instances, respectively"
   ]
  },
  {
   "cell_type": "code",
   "execution_count": 5,
   "id": "A3B591wfeAJh",
   "metadata": {
    "id": "A3B591wfeAJh"
   },
   "outputs": [],
   "source": [
    "def get_attributes(soup):\n",
    "    attr = []\n",
    "    attr_raw = soup.find_all(\"th\",attrs={\"aria-controls\": re.compile(\"main_table_countries_today\")})\n",
    "    for i in range(len(attr_raw)):\n",
    "        attr.append(re.sub(\": .+\",\"\",attr_raw[i][\"aria-label\"]).replace('\\n','').replace(\"&nbsp;\",' '))\n",
    "    return attr"
   ]
  },
  {
   "cell_type": "code",
   "execution_count": 6,
   "id": "7U5EwL77eBX7",
   "metadata": {
    "id": "7U5EwL77eBX7"
   },
   "outputs": [],
   "source": [
    "def get_instances(soup, day):\n",
    "    instances = []\n",
    "    # Select table to get correct data from 1 day\n",
    "    table = soup.find(\"table\", attrs={\"id\": f\"main_table_countries_{day}\"})\n",
    "    rows = table.find_all(\n",
    "        \"tr\", attrs={\"role\": \"row\", \"class\": [\"odd\", \"even\"]})\n",
    "    # Remove summary on the first row\n",
    "    rows.pop(0)\n",
    "    # For each instance parse to get data\n",
    "    for ins_raw in rows:\n",
    "        tmp = []\n",
    "        ins_r = ins_raw.find_all('td')\n",
    "        if len(ins_r) == 0:\n",
    "            continue\n",
    "        ins_r.pop(0)\n",
    "        if ins_r[0].string == None:\n",
    "            continue\n",
    "        tmp.append(ins_r[0].string.strip())\n",
    "        for i in range(1,len(ins_r) - 2):\n",
    "            if ins_r[i].string == None or len(ins_r[i].string.strip()) == 0:\n",
    "                tmp.append('N/A')\n",
    "            else:\n",
    "                tmp.append(ins_r[i].string.strip().replace(',',''))\n",
    "        # Get poplulation\n",
    "        if ins_r[-2].a != None:\n",
    "            tmp.append(ins_r[-2].a.string.strip().replace(',',''))\n",
    "        else:\n",
    "            tmp.append(ins_r[-2].string.strip().replace(',',''))\n",
    "        # Get continent\n",
    "        if ins_r[-1].string == None or len(ins_r[-1].string.strip()) == 0:\n",
    "            tmp.append('N/A')\n",
    "        else:\n",
    "            tmp.append(ins_r[-1].string.strip())\n",
    "        instances.append(tmp)\n",
    "\n",
    "    return instances"
   ]
  },
  {
   "cell_type": "markdown",
   "id": "6ce73324-9e95-427b-9b42-0793658f8b03",
   "metadata": {},
   "source": [
    "Save data to file"
   ]
  },
  {
   "cell_type": "code",
   "execution_count": 7,
   "id": "aYPdg6fjeFwY",
   "metadata": {
    "id": "aYPdg6fjeFwY"
   },
   "outputs": [],
   "source": [
    "def save_file(filename, attrs, instances):\n",
    "    with open(f\"data/{filename}.tsv\",\"w\") as f:\n",
    "        f.write('\\t'.join(attrs) + '\\n')\n",
    "        for i in instances:\n",
    "            f.write('\\t'.join(i) + '\\n')"
   ]
  },
  {
   "cell_type": "code",
   "execution_count": 8,
   "id": "7SNWQyCaeHqf",
   "metadata": {
    "id": "7SNWQyCaeHqf"
   },
   "outputs": [
    {
     "name": "stderr",
     "output_type": "stream",
     "text": [
      "C:\\Users\\HOANGDUY\\AppData\\Local\\Temp/ipykernel_16180/1235022806.py:16: DeprecationWarning: find_element_by_* commands are deprecated. Please use find_element() instead\n",
      "  driver.find_element_by_id(f'nav-{day[i]}-tab')\n"
     ]
    }
   ],
   "source": [
    "# 3 recent days\n",
    "day = [\n",
    "    \"today\", \n",
    "    \"yesterday\", \n",
    "    \"yesterday2\"\n",
    "    ]\n",
    "\n",
    "driver.get(\"https://www.worldometers.info/coronavirus/\")\n",
    "\n",
    "# Scrolling and get page source\n",
    "scroll_page(SLEEP_TIME_FOR_ELEMENTS_IMPLICIT)\n",
    "soup = BeautifulSoup(driver.page_source)\n",
    "attrs = get_attributes(soup)\n",
    "# Crawling\n",
    "for i in range(len(day)):\n",
    "    driver.find_element_by_id(f'nav-{day[i]}-tab')\n",
    "    instances = get_instances(soup,day[i])\n",
    "    date = today - datetime.timedelta(days=i)\n",
    "    save_file(f\"worldometers-{date.strftime('%Y-%m-%d')}\",attrs,instances)\n",
    "\n",
    "driver.close()"
   ]
  }
 ],
 "metadata": {
  "colab": {
   "collapsed_sections": [],
   "name": "selenium.ipynb",
   "provenance": []
  },
  "kernelspec": {
   "display_name": "Python 3 (ipykernel)",
   "language": "python",
   "name": "python3"
  },
  "language_info": {
   "codemirror_mode": {
    "name": "ipython",
    "version": 3
   },
   "file_extension": ".py",
   "mimetype": "text/x-python",
   "name": "python",
   "nbconvert_exporter": "python",
   "pygments_lexer": "ipython3",
   "version": "3.9.7"
  }
 },
 "nbformat": 4,
 "nbformat_minor": 5
}
