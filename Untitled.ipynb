{
 "cells": [
  {
   "cell_type": "code",
   "execution_count": 1,
   "id": "3e239b1d-80bb-4575-9821-84b1a9a7f90d",
   "metadata": {},
   "outputs": [],
   "source": [
    "import pandas as pd\n",
    "for d in range (25,28):\n",
    "    df = pd.read_csv(f\"data/worldometers-2022-05-{d}.tsv\", sep=\"\\t\", encoding=\"latin-1\")\n",
    "    #df[\"Continent\"] = df[\"Continent\"].str.replace(\",,\", \"\")\n",
    "    df.to_csv(f\"data/worldometers-2022-05-{d}.tsv\", index=False, sep=\"\\t\", encoding=\"utf-8\")"
   ]
  },
  {
   "cell_type": "code",
   "execution_count": 3,
   "id": "0c938b26-a5e6-47a5-a3ec-a980df02d73a",
   "metadata": {},
   "outputs": [
    {
     "data": {
      "text/plain": [
       "Index(['Country,Other', 'TotalCases', 'NewCases', 'TotalDeaths', 'NewDeaths',\n",
       "       'TotalRecovered', 'NewRecovered', 'ActiveCases', 'Serious,Critical',\n",
       "       'Tot Cases/1M pop', 'Deaths/1M pop', 'TotalTests', 'Tests/1M pop',\n",
       "       'Population', 'Continent'],\n",
       "      dtype='object')"
      ]
     },
     "execution_count": 3,
     "metadata": {},
     "output_type": "execute_result"
    }
   ],
   "source": [
    "df = pd.read_csv(\"data/worldometers-2022-05-26.tsv\", sep=\"\\t\")\n",
    "df.columns"
   ]
  },
  {
   "cell_type": "code",
   "execution_count": 4,
   "id": "0ad5f577-03a4-476e-860b-226d2b3e7efe",
   "metadata": {},
   "outputs": [
    {
     "name": "stdout",
     "output_type": "stream",
     "text": [
      "<class 'pandas.core.frame.DataFrame'>\n",
      "RangeIndex: 230 entries, 0 to 229\n",
      "Data columns (total 15 columns):\n",
      " #   Column            Non-Null Count  Dtype  \n",
      "---  ------            --------------  -----  \n",
      " 0   Country,Other     230 non-null    object \n",
      " 1   TotalCases        230 non-null    int64  \n",
      " 2   NewCases          108 non-null    float64\n",
      " 3   TotalDeaths       221 non-null    float64\n",
      " 4   NewDeaths         51 non-null     float64\n",
      " 5   TotalRecovered    207 non-null    float64\n",
      " 6   NewRecovered      86 non-null     float64\n",
      " 7   ActiveCases       208 non-null    float64\n",
      " 8   Serious,Critical  143 non-null    float64\n",
      " 9   Tot Cases/1M pop  228 non-null    float64\n",
      " 10  Deaths/1M pop     219 non-null    float64\n",
      " 11  TotalTests        213 non-null    float64\n",
      " 12  Tests/1M pop      213 non-null    float64\n",
      " 13  Population        228 non-null    float64\n",
      " 14  Continent         228 non-null    object \n",
      "dtypes: float64(12), int64(1), object(2)\n",
      "memory usage: 27.1+ KB\n"
     ]
    }
   ],
   "source": [
    "df.info()"
   ]
  }
 ],
 "metadata": {
  "kernelspec": {
   "display_name": "Python 3 (ipykernel)",
   "language": "python",
   "name": "python3"
  },
  "language_info": {
   "codemirror_mode": {
    "name": "ipython",
    "version": 3
   },
   "file_extension": ".py",
   "mimetype": "text/x-python",
   "name": "python",
   "nbconvert_exporter": "python",
   "pygments_lexer": "ipython3",
   "version": "3.9.7"
  }
 },
 "nbformat": 4,
 "nbformat_minor": 5
}
