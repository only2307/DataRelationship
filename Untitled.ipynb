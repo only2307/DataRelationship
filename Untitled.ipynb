{
 "cells": [
  {
   "cell_type": "code",
   "execution_count": 2,
   "id": "3e239b1d-80bb-4575-9821-84b1a9a7f90d",
   "metadata": {},
   "outputs": [],
   "source": [
    "import pandas as pd\n",
    "for d in range (23,26):\n",
    "    df = pd.read_csv(f\"data/worldometers-2022-05-{d}.tsv\", sep=\"\\t\", encoding=\"latin-1\")\n",
    "    #df[\"Continent\"] = df[\"Continent\"].str.replace(\",,\", \"\")\n",
    "    df.to_csv(f\"data/worldometers-2022-05-{d}.tsv\", index=False, sep=\"\\t\", encoding=\"utf-8\")"
   ]
  },
  {
   "cell_type": "code",
   "execution_count": 3,
   "id": "0c938b26-a5e6-47a5-a3ec-a980df02d73a",
   "metadata": {},
   "outputs": [
    {
     "data": {
      "text/plain": [
       "Index(['Country,Other', 'TotalCases', 'NewCases', 'TotalDeaths', 'NewDeaths',\n",
       "       'TotalRecovered', 'NewRecovered', 'ActiveCases', 'Serious,Critical',\n",
       "       'Tot Cases/1M pop', 'Deaths/1M pop', 'TotalTests', 'Tests/1M pop',\n",
       "       'Population', 'Continent'],\n",
       "      dtype='object')"
      ]
     },
     "execution_count": 3,
     "metadata": {},
     "output_type": "execute_result"
    }
   ],
   "source": [
    "df = pd.read_csv(\"data/worldometers-2022-05-25.tsv\", sep=\"\\t\")\n",
    "df.columns"
   ]
  },
  {
   "cell_type": "code",
   "execution_count": null,
   "id": "0ad5f577-03a4-476e-860b-226d2b3e7efe",
   "metadata": {},
   "outputs": [],
   "source": []
  }
 ],
 "metadata": {
  "kernelspec": {
   "display_name": "Python 3 (ipykernel)",
   "language": "python",
   "name": "python3"
  },
  "language_info": {
   "codemirror_mode": {
    "name": "ipython",
    "version": 3
   },
   "file_extension": ".py",
   "mimetype": "text/x-python",
   "name": "python",
   "nbconvert_exporter": "python",
   "pygments_lexer": "ipython3",
   "version": "3.9.7"
  }
 },
 "nbformat": 4,
 "nbformat_minor": 5
}
