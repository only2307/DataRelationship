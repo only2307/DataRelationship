{
 "cells": [
  {
   "cell_type": "code",
   "execution_count": 1,
   "id": "5344054f-7178-4722-9ae9-f6a4338e8573",
   "metadata": {},
   "outputs": [],
   "source": [
    "import pandas as pd\n",
    "import numpy as np\n",
    "import matplotlib.pyplot as plt\n",
    "import seaborn as sns"
   ]
  },
  {
   "cell_type": "code",
   "execution_count": 5,
   "id": "9699207f-6b3a-436a-b415-b3fdbfdb53b1",
   "metadata": {},
   "outputs": [
    {
     "data": {
      "text/html": [
       "<div>\n",
       "<style scoped>\n",
       "    .dataframe tbody tr th:only-of-type {\n",
       "        vertical-align: middle;\n",
       "    }\n",
       "\n",
       "    .dataframe tbody tr th {\n",
       "        vertical-align: top;\n",
       "    }\n",
       "\n",
       "    .dataframe thead th {\n",
       "        text-align: right;\n",
       "    }\n",
       "</style>\n",
       "<table border=\"1\" class=\"dataframe\">\n",
       "  <thead>\n",
       "    <tr style=\"text-align: right;\">\n",
       "      <th></th>\n",
       "      <th>Country,Other</th>\n",
       "      <th>TotalCases</th>\n",
       "      <th>NewCases</th>\n",
       "      <th>TotalDeaths</th>\n",
       "      <th>NewDeaths</th>\n",
       "      <th>TotalRecovered</th>\n",
       "      <th>NewRecovered</th>\n",
       "      <th>ActiveCases</th>\n",
       "      <th>Serious,Critical</th>\n",
       "      <th>Tot Cases/1M pop</th>\n",
       "      <th>Deaths/1M pop</th>\n",
       "      <th>TotalTests</th>\n",
       "      <th>Tests/1M pop</th>\n",
       "      <th>Population</th>\n",
       "      <th>Continent</th>\n",
       "    </tr>\n",
       "  </thead>\n",
       "  <tbody>\n",
       "    <tr>\n",
       "      <th>0</th>\n",
       "      <td>USA</td>\n",
       "      <td>83066907</td>\n",
       "      <td>24751.0</td>\n",
       "      <td>1020833.0</td>\n",
       "      <td>115.0</td>\n",
       "      <td>80684899.0</td>\n",
       "      <td>29374.0</td>\n",
       "      <td>1361175.0</td>\n",
       "      <td>1576.0</td>\n",
       "      <td>248299.0</td>\n",
       "      <td>3051.0</td>\n",
       "      <td>1.005438e+09</td>\n",
       "      <td>3005403.0</td>\n",
       "      <td>3.345435e+08</td>\n",
       "      <td>North America</td>\n",
       "    </tr>\n",
       "    <tr>\n",
       "      <th>1</th>\n",
       "      <td>India</td>\n",
       "      <td>43079188</td>\n",
       "      <td>3324.0</td>\n",
       "      <td>523843.0</td>\n",
       "      <td>40.0</td>\n",
       "      <td>42536253.0</td>\n",
       "      <td>2876.0</td>\n",
       "      <td>19092.0</td>\n",
       "      <td>698.0</td>\n",
       "      <td>30667.0</td>\n",
       "      <td>373.0</td>\n",
       "      <td>8.374420e+08</td>\n",
       "      <td>596148.0</td>\n",
       "      <td>1.404754e+09</td>\n",
       "      <td>Asia</td>\n",
       "    </tr>\n",
       "    <tr>\n",
       "      <th>2</th>\n",
       "      <td>Brazil</td>\n",
       "      <td>30448236</td>\n",
       "      <td>15194.0</td>\n",
       "      <td>663551.0</td>\n",
       "      <td>67.0</td>\n",
       "      <td>29519204.0</td>\n",
       "      <td>11647.0</td>\n",
       "      <td>265481.0</td>\n",
       "      <td>8318.0</td>\n",
       "      <td>141412.0</td>\n",
       "      <td>3082.0</td>\n",
       "      <td>6.377617e+07</td>\n",
       "      <td>296198.0</td>\n",
       "      <td>2.153158e+08</td>\n",
       "      <td>South America</td>\n",
       "    </tr>\n",
       "    <tr>\n",
       "      <th>3</th>\n",
       "      <td>France</td>\n",
       "      <td>28645285</td>\n",
       "      <td>49482.0</td>\n",
       "      <td>145930.0</td>\n",
       "      <td>61.0</td>\n",
       "      <td>26801506.0</td>\n",
       "      <td>107496.0</td>\n",
       "      <td>1697849.0</td>\n",
       "      <td>1677.0</td>\n",
       "      <td>437086.0</td>\n",
       "      <td>2227.0</td>\n",
       "      <td>2.664840e+08</td>\n",
       "      <td>4066162.0</td>\n",
       "      <td>6.553699e+07</td>\n",
       "      <td>Europe</td>\n",
       "    </tr>\n",
       "    <tr>\n",
       "      <th>4</th>\n",
       "      <td>Germany</td>\n",
       "      <td>24761600</td>\n",
       "      <td>57003.0</td>\n",
       "      <td>135900.0</td>\n",
       "      <td>106.0</td>\n",
       "      <td>22307900.0</td>\n",
       "      <td>80300.0</td>\n",
       "      <td>2317800.0</td>\n",
       "      <td>1446.0</td>\n",
       "      <td>293827.0</td>\n",
       "      <td>1613.0</td>\n",
       "      <td>1.223324e+08</td>\n",
       "      <td>1451626.0</td>\n",
       "      <td>8.427266e+07</td>\n",
       "      <td>Europe</td>\n",
       "    </tr>\n",
       "  </tbody>\n",
       "</table>\n",
       "</div>"
      ],
      "text/plain": [
       "  Country,Other  TotalCases  NewCases  TotalDeaths  NewDeaths  TotalRecovered  \\\n",
       "0           USA    83066907   24751.0    1020833.0      115.0      80684899.0   \n",
       "1         India    43079188    3324.0     523843.0       40.0      42536253.0   \n",
       "2        Brazil    30448236   15194.0     663551.0       67.0      29519204.0   \n",
       "3        France    28645285   49482.0     145930.0       61.0      26801506.0   \n",
       "4       Germany    24761600   57003.0     135900.0      106.0      22307900.0   \n",
       "\n",
       "   NewRecovered  ActiveCases  Serious,Critical  Tot Cases/1M pop  \\\n",
       "0       29374.0    1361175.0            1576.0          248299.0   \n",
       "1        2876.0      19092.0             698.0           30667.0   \n",
       "2       11647.0     265481.0            8318.0          141412.0   \n",
       "3      107496.0    1697849.0            1677.0          437086.0   \n",
       "4       80300.0    2317800.0            1446.0          293827.0   \n",
       "\n",
       "   Deaths/1M pop    TotalTests  Tests/1M pop    Population      Continent  \n",
       "0         3051.0  1.005438e+09     3005403.0  3.345435e+08  North America  \n",
       "1          373.0  8.374420e+08      596148.0  1.404754e+09           Asia  \n",
       "2         3082.0  6.377617e+07      296198.0  2.153158e+08  South America  \n",
       "3         2227.0  2.664840e+08     4066162.0  6.553699e+07         Europe  \n",
       "4         1613.0  1.223324e+08     1451626.0  8.427266e+07         Europe  "
      ]
     },
     "execution_count": 5,
     "metadata": {},
     "output_type": "execute_result"
    }
   ],
   "source": [
    "df = pd.read_csv(\"data2/worldometers-2022-04-30.tsv\", sep=\"\\t\")\n",
    "df.head()"
   ]
  },
  {
   "cell_type": "code",
   "execution_count": 6,
   "id": "552216ef-5478-40bb-95b2-b9450151f5b0",
   "metadata": {},
   "outputs": [
    {
     "data": {
      "text/plain": [
       "Country,Other         0\n",
       "TotalCases            0\n",
       "NewCases            132\n",
       "TotalDeaths           8\n",
       "NewDeaths           177\n",
       "TotalRecovered       15\n",
       "NewRecovered        148\n",
       "ActiveCases          15\n",
       "Serious,Critical     79\n",
       "Tot Cases/1M pop      2\n",
       "Deaths/1M pop        10\n",
       "TotalTests           16\n",
       "Tests/1M pop         16\n",
       "Population            2\n",
       "Continent             2\n",
       "dtype: int64"
      ]
     },
     "execution_count": 6,
     "metadata": {},
     "output_type": "execute_result"
    }
   ],
   "source": [
    "#Kiểm tra số lượng giá trị null trong bảng dữ liệu\n",
    "df.isnull().sum()"
   ]
  },
  {
   "cell_type": "code",
   "execution_count": 7,
   "id": "12eb28cc-d433-46ec-a480-37885380aa16",
   "metadata": {},
   "outputs": [
    {
     "data": {
      "text/plain": [
       "Country,Other        object\n",
       "TotalCases            int64\n",
       "NewCases            float64\n",
       "TotalDeaths         float64\n",
       "NewDeaths           float64\n",
       "TotalRecovered      float64\n",
       "NewRecovered        float64\n",
       "ActiveCases         float64\n",
       "Serious,Critical    float64\n",
       "Tot Cases/1M pop    float64\n",
       "Deaths/1M pop       float64\n",
       "TotalTests          float64\n",
       "Tests/1M pop        float64\n",
       "Population          float64\n",
       "Continent            object\n",
       "dtype: object"
      ]
     },
     "execution_count": 7,
     "metadata": {},
     "output_type": "execute_result"
    }
   ],
   "source": [
    "#Kiểm tra kiểu dữ liệu của các cột\n",
    "df.dtypes"
   ]
  },
  {
   "cell_type": "markdown",
   "id": "bcbb3305-6d5c-4d06-9e35-7c9dfa01e8f7",
   "metadata": {},
   "source": [
    "Các cột có vẻ như đã phù hợp với dữ liệu trong bảng rồi nên ta không cần chuyển đổi."
   ]
  }
 ],
 "metadata": {
  "kernelspec": {
   "display_name": "Python 3 (ipykernel)",
   "language": "python",
   "name": "python3"
  },
  "language_info": {
   "codemirror_mode": {
    "name": "ipython",
    "version": 3
   },
   "file_extension": ".py",
   "mimetype": "text/x-python",
   "name": "python",
   "nbconvert_exporter": "python",
   "pygments_lexer": "ipython3",
   "version": "3.8.8"
  }
 },
 "nbformat": 4,
 "nbformat_minor": 5
}
