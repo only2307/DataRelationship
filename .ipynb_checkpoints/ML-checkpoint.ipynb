{
 "cells": [
  {
   "cell_type": "code",
   "execution_count": 1,
   "id": "abff801a-2472-4ca2-a3eb-d9de6bc1e2be",
   "metadata": {},
   "outputs": [],
   "source": [
    "import pandas as pd\n",
    "import statsmodels.api as sm"
   ]
  },
  {
   "cell_type": "code",
   "execution_count": 12,
   "id": "5ccf698b-2ed4-492e-a7fb-9960c1b4144a",
   "metadata": {},
   "outputs": [],
   "source": [
    "df = pd.read_csv(\"data/data_processed/worldometers-2022-05-25-processed.tsv\", sep=\"\\t\")\n",
    "df1 = df[[\"Country,Other\", \"TotalCases\", \"TotalDeaths\", \"TotalRecovered\", \"ActiveCases\", \"TotalTests\"]]"
   ]
  },
  {
   "cell_type": "code",
   "execution_count": 19,
   "id": "393a8680-ffc4-4752-aa1a-c31a69bae4e1",
   "metadata": {},
   "outputs": [],
   "source": [
    "df1 = df1.fillna(0)"
   ]
  },
  {
   "cell_type": "code",
   "execution_count": 20,
   "id": "805fb06c-5a11-4146-bb25-2100eba3b27f",
   "metadata": {},
   "outputs": [
    {
     "name": "stdout",
     "output_type": "stream",
     "text": [
      "                            OLS Regression Results                            \n",
      "==============================================================================\n",
      "Dep. Variable:             TotalTests   R-squared:                       0.771\n",
      "Model:                            OLS   Adj. R-squared:                  0.770\n",
      "Method:                 Least Squares   F-statistic:                     766.9\n",
      "Date:                Wed, 25 May 2022   Prob (F-statistic):           6.88e-75\n",
      "Time:                        20:00:17   Log-Likelihood:                -4403.3\n",
      "No. Observations:                 230   AIC:                             8811.\n",
      "Df Residuals:                     228   BIC:                             8817.\n",
      "Df Model:                           1                                         \n",
      "Covariance Type:            nonrobust                                         \n",
      "==============================================================================\n",
      "                 coef    std err          t      P>|t|      [0.025      0.975]\n",
      "------------------------------------------------------------------------------\n",
      "const       1.242e+05   3.45e+06      0.036      0.971   -6.68e+06    6.93e+06\n",
      "TotalCases    12.0944      0.437     27.692      0.000      11.234      12.955\n",
      "==============================================================================\n",
      "Omnibus:                      141.277   Durbin-Watson:                   2.449\n",
      "Prob(Omnibus):                  0.000   Jarque-Bera (JB):             6142.221\n",
      "Skew:                           1.671   Prob(JB):                         0.00\n",
      "Kurtosis:                      28.095   Cond. No.                     8.27e+06\n",
      "==============================================================================\n",
      "\n",
      "Notes:\n",
      "[1] Standard Errors assume that the covariance matrix of the errors is correctly specified.\n",
      "[2] The condition number is large, 8.27e+06. This might indicate that there are\n",
      "strong multicollinearity or other numerical problems.\n"
     ]
    },
    {
     "name": "stderr",
     "output_type": "stream",
     "text": [
      "C:\\Users\\HOANGDUY\\anaconda3\\lib\\site-packages\\statsmodels\\tsa\\tsatools.py:142: FutureWarning: In a future version of pandas all arguments of concat except for the argument 'objs' will be keyword-only\n",
      "  x = pd.concat(x[::order], 1)\n"
     ]
    }
   ],
   "source": [
    "X = df1[\"TotalCases\"]\n",
    "Y = df1[\"TotalTests\"]\n",
    "X = sm.add_constant(X)\n",
    "model = sm.OLS(Y, X).fit()\n",
    "preds = model.predict(X)\n",
    "print_model = model.summary()\n",
    "print(print_model)"
   ]
  },
  {
   "cell_type": "code",
   "execution_count": null,
   "id": "b392ddb8-99c3-410e-8301-9b729d50855b",
   "metadata": {},
   "outputs": [],
   "source": []
  }
 ],
 "metadata": {
  "kernelspec": {
   "display_name": "Python 3 (ipykernel)",
   "language": "python",
   "name": "python3"
  },
  "language_info": {
   "codemirror_mode": {
    "name": "ipython",
    "version": 3
   },
   "file_extension": ".py",
   "mimetype": "text/x-python",
   "name": "python",
   "nbconvert_exporter": "python",
   "pygments_lexer": "ipython3",
   "version": "3.9.7"
  }
 },
 "nbformat": 4,
 "nbformat_minor": 5
}
